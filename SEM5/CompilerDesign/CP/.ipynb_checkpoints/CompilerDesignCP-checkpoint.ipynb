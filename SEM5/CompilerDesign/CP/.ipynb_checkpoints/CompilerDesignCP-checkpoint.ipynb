{
 "cells": [
  {
   "cell_type": "code",
   "execution_count": 19,
   "id": "139befe7-4c0a-4471-8257-8b2c0b4e17f1",
   "metadata": {},
   "outputs": [],
   "source": [
    "import re\n",
    "variables = {}"
   ]
  },
  {
   "cell_type": "code",
   "execution_count": 20,
   "id": "8ab7d714-988b-490b-9746-84b8307dbc85",
   "metadata": {},
   "outputs": [],
   "source": [
    "def tokenize(code):\n",
    "    return re.findall(r'\\w+|\\+|\\-|\\*|\\/', code)"
   ]
  },
  {
   "cell_type": "code",
   "execution_count": 39,
   "id": "fdccf1d0-8f73-4395-a378-4d8bc12b5a44",
   "metadata": {},
   "outputs": [],
   "source": [
    "def execute_code(code):\n",
    "    tokens = tokenize(code)\n",
    "    result = None\n",
    "    i = 0\n",
    "    while i < len(tokens):\n",
    "        token = tokens[i]\n",
    "        if token == \"let\" or token == \"int\":\n",
    "            # Variable declaration\n",
    "            data_type = token\n",
    "            i += 1\n",
    "            variable_name = tokens[i]\n",
    "            i += 2  # Skip '=' and value\n",
    "            if data_type == \"int\":\n",
    "                variable_value = int(tokens[i])\n",
    "            else:\n",
    "                variable_value = (tokens[i])\n",
    "            \n",
    "            variables[variable_name] = variable_value\n",
    "            print(variables)\n",
    "        elif token in variables:\n",
    "            # Variable usage\n",
    "            if result is None:\n",
    "                result = variables[token]\n",
    "            else:\n",
    "                i += 1\n",
    "                op = tokens[i]\n",
    "                i += 1\n",
    "                if op == \"+\":\n",
    "                    result += variables[token]\n",
    "                elif op == \"-\":\n",
    "                    result -= variables[token]\n",
    "                elif op == \"*\":\n",
    "                    result *= variables[token]\n",
    "                elif op == \"/\":\n",
    "                    result /= variables[token]\n",
    "        i += 1\n",
    "\n",
    "    return result"
   ]
  },
  {
   "cell_type": "code",
   "execution_count": 40,
   "id": "8681a446-356f-4a9f-b076-513aaccbf3a2",
   "metadata": {},
   "outputs": [
    {
     "name": "stdout",
     "output_type": "stream",
     "text": [
      "{'a': 'int'}\n",
      "int\n",
      "Result: int\n"
     ]
    }
   ],
   "source": [
    "if __name__ == \"__main__\":\n",
    "    source_code = \"\"\"\n",
    "    let a = 1\n",
    "    int b = 2\n",
    "    c = a + b\n",
    "    \"\"\"\n",
    "    result = execute_code(source_code)\n",
    "    print(f\"Result: {result}\")\n"
   ]
  },
  {
   "cell_type": "code",
   "execution_count": null,
   "id": "b43345fc-b3dd-4c23-924c-18f0c86b6816",
   "metadata": {},
   "outputs": [],
   "source": []
  }
 ],
 "metadata": {
  "kernelspec": {
   "display_name": "Python 3 (ipykernel)",
   "language": "python",
   "name": "python3"
  },
  "language_info": {
   "codemirror_mode": {
    "name": "ipython",
    "version": 3
   },
   "file_extension": ".py",
   "mimetype": "text/x-python",
   "name": "python",
   "nbconvert_exporter": "python",
   "pygments_lexer": "ipython3",
   "version": "3.11.5"
  }
 },
 "nbformat": 4,
 "nbformat_minor": 5
}
